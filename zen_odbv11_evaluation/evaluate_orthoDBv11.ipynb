{
 "cells": [
  {
   "cell_type": "markdown",
   "id": "6581af1f",
   "metadata": {},
   "source": [
    "Directory: ~/hayai_v3.2/zen_odb_v11"
   ]
  },
  {
   "cell_type": "markdown",
   "id": "a334a32f",
   "metadata": {},
   "source": [
    "# Script Name: evaluate_orthoDBv11.ipynb\n",
    "# Purpose: Evaluate Zen mapping\n",
    "# Author: Andrea Ghelfi\n",
    "# Date: November 20, 2024\n",
    "# License: GNU GPL-3.0 License\n",
    "# Software: Python 3.10"
   ]
  },
  {
   "cell_type": "code",
   "execution_count": null,
   "id": "b9468445",
   "metadata": {},
   "outputs": [],
   "source": [
    "library(data.table)"
   ]
  },
  {
   "cell_type": "code",
   "execution_count": null,
   "id": "d2e60870",
   "metadata": {},
   "outputs": [],
   "source": [
    "# OrthoDB to parental from OrthoDB v.11.\n",
    "og_pairs <- fread(\"odb11v0_OG_pairs.tab\", header = FALSE, sep = \"\\t\")\n",
    "colnames(og_pairs) <- c(\"OrthoDB\", \"parental_OrthoDB\")"
   ]
  },
  {
   "cell_type": "code",
   "execution_count": null,
   "id": "044df5a0",
   "metadata": {},
   "outputs": [],
   "source": [
    "# Select Eukaryotes to match UniProtKB - OrthoDB taxon level\n",
    "og_pairs_euk <- og_pairs[grep(\"at2759\", og_pairs$parental_OrthoDB), ]"
   ]
  },
  {
   "cell_type": "code",
   "execution_count": null,
   "id": "4fac0114",
   "metadata": {},
   "outputs": [],
   "source": [
    "# Inferred OrthoDB using Zen (OrthoDB v.11 and UniProtKB dataset downloaded on 2024.4.29\n",
    "inferred_ogs <- fread(\"uniprot2orthodb.tsv\", header = TRUE, sep = \"\\t\")\n",
    "# Remove accessions without assigned OrthoDB\n",
    "inferred_ogs <- inferred_ogs[!is.na(inferred_ogs$OrthoDB), ]"
   ]
  },
  {
   "cell_type": "code",
   "execution_count": null,
   "id": "9f0f6d5d",
   "metadata": {},
   "outputs": [],
   "source": [
    "# Extracted OrthoDB from UniProt-Plants: Swiss-Prot\n",
    "all_sp <- fread(\"sp_acc2orthodb.txt\", header = FALSE, sep = \"\\t\")\n",
    "colnames(all_sp) <- c(\"AC\", \"UK_OrthoDB\")\n",
    "print(\"Total accession in SwissProt\")\n",
    "nrow(all_sp)"
   ]
  },
  {
   "cell_type": "code",
   "execution_count": null,
   "id": "ed917f04",
   "metadata": {},
   "outputs": [],
   "source": [
    "[1] \"Total accession in SwissProt\"\n",
    "[1] 44592"
   ]
  },
  {
   "cell_type": "code",
   "execution_count": null,
   "id": "f95cc2b6",
   "metadata": {},
   "outputs": [],
   "source": [
    "# Extracted OrthoDB from UniProt-Plants: TrEMBL\n",
    "all_tr <- fread(\"tr_acc2orthodb.txt\", header = FALSE, sep = \"\\t\")\n",
    "colnames(all_tr) <- c(\"AC\", \"UK_OrthoDB\")"
   ]
  },
  {
   "cell_type": "code",
   "execution_count": null,
   "id": "47169593",
   "metadata": {},
   "outputs": [],
   "source": [
    "print(\"Total accession in TrEMBL\")\n",
    "nrow(all_tr)"
   ]
  },
  {
   "cell_type": "code",
   "execution_count": null,
   "id": "5af9402a",
   "metadata": {},
   "outputs": [],
   "source": [
    "[1] \"Total accession in TrEMBL\"\n",
    "[1] 19023625"
   ]
  },
  {
   "cell_type": "code",
   "execution_count": null,
   "id": "0bc6aaf9",
   "metadata": {},
   "outputs": [],
   "source": [
    "# Add parental levels for the inferred ogs\n",
    "par_inf_ogs_euk <- merge(inferred_ogs, og_pairs_euk, by = \"OrthoDB\")"
   ]
  },
  {
   "cell_type": "code",
   "execution_count": null,
   "id": "4ba940a5",
   "metadata": {},
   "outputs": [],
   "source": [
    "# Add database name for UniProtKB-Plants\n",
    "all_sp$db <- \"sp\"\n",
    "all_tr$db <- \"tr\""
   ]
  },
  {
   "cell_type": "code",
   "execution_count": null,
   "id": "57b8d938",
   "metadata": {},
   "outputs": [],
   "source": [
    "# Merge both SwissProt and TrEMBL databases\n",
    "all_uni <- rbind(all_sp, all_tr)\n",
    "colnames(all_uni) <- c(\"AC\", \"UK_OrthoDB\", \"db\")"
   ]
  },
  {
   "cell_type": "code",
   "execution_count": null,
   "id": "82c95bc1",
   "metadata": {},
   "outputs": [],
   "source": [
    "print(\"Total accession in UniProtKB-Plants\")\n",
    "print(nrow(all_uni))"
   ]
  },
  {
   "cell_type": "code",
   "execution_count": null,
   "id": "304d0726",
   "metadata": {},
   "outputs": [],
   "source": [
    "[1] \"Total accession in UniProtKB-Plants\"\n",
    "[1] 19068217"
   ]
  },
  {
   "cell_type": "code",
   "execution_count": null,
   "id": "00344e9f",
   "metadata": {},
   "outputs": [],
   "source": [
    "# Remove accessions without assigned OrthoDB in UniProtKB\n",
    "uni <- all_uni[!is.na(all_uni$UK_OrthoDB), ]\n",
    "print(\"Total of UniProt entries with OrthoDB ID\")\n",
    "print(nrow(uni))"
   ]
  },
  {
   "cell_type": "code",
   "execution_count": null,
   "id": "b132d4e7",
   "metadata": {},
   "outputs": [],
   "source": [
    "[1] \"Total of UniProt entries with OrthoDB ID\"\n",
    "[1] 2729135"
   ]
  },
  {
   "cell_type": "code",
   "execution_count": null,
   "id": "5d6add83",
   "metadata": {},
   "outputs": [],
   "source": [
    "# Percentage of UniProt accessions with OrthoDB in UniProtKB-Plants\n",
    "print(\"Percentage of UniProt accessions with OrthoDB in UniProtKB-Plants\")\n",
    "print(nrow(uni)/nrow(all_uni)*100)"
   ]
  },
  {
   "cell_type": "code",
   "execution_count": null,
   "id": "396f2e06",
   "metadata": {},
   "outputs": [],
   "source": [
    "[1] \"Percentage of UniProt accessions with OrthoDB in UniProtKB-Plants\"\n",
    "[1] 14.31248"
   ]
  },
  {
   "cell_type": "code",
   "execution_count": null,
   "id": "df27a7a9",
   "metadata": {},
   "outputs": [],
   "source": [
    "# Count occurrences of each value in the 'db' column\n",
    "db_counts <- uni[, .N, by = db]"
   ]
  },
  {
   "cell_type": "code",
   "execution_count": null,
   "id": "cbe618f0",
   "metadata": {},
   "outputs": [],
   "source": [
    "# Print the result\n",
    "print(\"Number of occurrences per database\")\n",
    "print(db_counts)"
   ]
  },
  {
   "cell_type": "code",
   "execution_count": null,
   "id": "66191a61",
   "metadata": {},
   "outputs": [],
   "source": [
    "[1] \"Number of occurrences per database\"\n",
    "       db       N\n",
    "   <char>   <int>\n",
    "1:     sp   22658\n",
    "2:     tr 2706477"
   ]
  },
  {
   "cell_type": "code",
   "execution_count": null,
   "id": "f73183f0",
   "metadata": {},
   "outputs": [],
   "source": [
    "# Percentage of OrthoDB in UniProt per database\n",
    "print(\"Percentage of OrthoDB in SwissProt\")\n",
    "print(db_counts$N[1]/nrow(all_sp)*100)\n",
    "[1] \"Percentage of OrthoDB in SwissProt\"\n",
    "[1] 50.8118"
   ]
  },
  {
   "cell_type": "code",
   "execution_count": null,
   "id": "b41b3eab",
   "metadata": {},
   "outputs": [],
   "source": [
    "print(\"Percentage of OrthoDB in TrEMBL\")\n",
    "print(db_counts$N[2]/nrow(all_tr)*100)"
   ]
  },
  {
   "cell_type": "code",
   "execution_count": null,
   "id": "40ddca19",
   "metadata": {},
   "outputs": [],
   "source": [
    "[1] \"Percentage of OrthoDB in TrEMBL\"\n",
    "[1] 14.22693"
   ]
  },
  {
   "cell_type": "code",
   "execution_count": null,
   "id": "e48b1a8d",
   "metadata": {},
   "outputs": [],
   "source": [
    "# Join the inferred orthodb by Zen mapping with original data from UniProt using uniprot accession\n",
    "all_compare <- merge(par_inf_ogs_euk, uni, by = \"AC\", all.y = TRUE)"
   ]
  },
  {
   "cell_type": "code",
   "execution_count": null,
   "id": "4fddaeed",
   "metadata": {},
   "outputs": [],
   "source": [
    "dim(all_compare[!is.na(all_compare$parental_OrthoDB), ])\n",
    "[1] 1950290       5"
   ]
  },
  {
   "cell_type": "code",
   "execution_count": null,
   "id": "1b5c93f1",
   "metadata": {},
   "outputs": [],
   "source": [
    "# Removed accessions without assigned parental level for orthodb\n",
    "compare <- all_compare[!is.na(all_compare$parental_OrthoDB), ]\n",
    "nrow(compare)\n",
    "[1] 1950290"
   ]
  },
  {
   "cell_type": "code",
   "execution_count": null,
   "id": "73e232cc",
   "metadata": {},
   "outputs": [],
   "source": [
    "same <- compare[compare$parental_OrthoDB == compare$UK_OrthoDB,]"
   ]
  },
  {
   "cell_type": "code",
   "execution_count": null,
   "id": "73c19a26",
   "metadata": {},
   "outputs": [],
   "source": [
    "# Correspondence Zen and Uniprot (no NAs)\n",
    "print(\"Percentage of accessions with parental OrthoDB in UniProtKB\")\n",
    "print(nrow(compare)/nrow(uni) * 100)\n",
    "print(\"Total number of accessions with OrthoDB accessions and Zen mapping\")\n",
    "print(nrow(compare))\n",
    "print(\"Accessions were Zen mapping matched OrthoDB in UniProtKB, considering Eukarya level\")\n",
    "print(nrow(same))\n",
    "print(\"Percentage of accessions were Zen mapping matched OrthoDB in UniProtKB, considering Eukarya level\")\n",
    "print(nrow(same)/nrow(compare) * 100)"
   ]
  },
  {
   "cell_type": "code",
   "execution_count": null,
   "id": "0cf20efb",
   "metadata": {},
   "outputs": [],
   "source": [
    "[1] \"Percentage of accessions with parental OrthoDB in UniProtKB\"\n",
    "[1] 71.46184\n",
    "[1] \"Total number of accessions with OrthoDB accessions and Zen mapping\"\n",
    "[1] 1950290\n",
    "[1] \"Accessions were Zen mapping matched OrthoDB in UniProtKB, considering Eukarya level\"\n",
    "[1] 1943023\n",
    "[1] \"Percentage of accessions were Zen mapping matched OrthoDB in UniProtKB, considering Eukarya level\"\n",
    "[1] 99.62739"
   ]
  },
  {
   "cell_type": "code",
   "execution_count": null,
   "id": "fcf81e81",
   "metadata": {},
   "outputs": [],
   "source": [
    "# After Zen Mapping\n",
    "zen_sp <- merge(inferred_ogs, all_sp, by = \"AC\")\n",
    "print(\"Zen mapping in SwissProt\")\n",
    "print(nrow(zen_sp))\n",
    "print(\"Zen mapping in SwissProt% ()\")\n",
    "print(nrow(zen_sp)/nrow(all_sp)*100)"
   ]
  },
  {
   "cell_type": "code",
   "execution_count": null,
   "id": "c7dc0d4a",
   "metadata": {},
   "outputs": [],
   "source": [
    "[1] \"Zen mapping in SwissProt\"\n",
    "[1] 38765\n",
    "[1] \"Zen mapping in SwissProt% ()\"\n",
    "[1] 86.93263"
   ]
  },
  {
   "cell_type": "code",
   "execution_count": null,
   "id": "17a35389",
   "metadata": {},
   "outputs": [],
   "source": [
    "zen_tr <- merge(inferred_ogs, all_tr, by = \"AC\")\n",
    "print(\"Zen mapping in TrEMBL\")\n",
    "print(nrow(zen_tr))\n",
    "print(\"Zen mapping in TrEMBL% ()\")\n",
    "print(nrow(zen_tr)/nrow(all_tr)*100)"
   ]
  },
  {
   "cell_type": "code",
   "execution_count": null,
   "id": "e58802dc",
   "metadata": {},
   "outputs": [],
   "source": [
    "[1] \"Zen mapping in TrEMBL\"\n",
    "[1] 9170680\n",
    "[1] \"Zen mapping in TrEMBL% ()\"\n",
    "[1] 48.2068"
   ]
  },
  {
   "cell_type": "code",
   "execution_count": null,
   "id": "d329a76f",
   "metadata": {},
   "outputs": [],
   "source": [
    "print(\"Zen mapping in UniProtKB\")\n",
    "print(nrow(zen_sp)+nrow(zen_tr))"
   ]
  },
  {
   "cell_type": "code",
   "execution_count": null,
   "id": "2b3d6d22",
   "metadata": {},
   "outputs": [],
   "source": [
    "[1] \"Zen mapping in UniProtKB\"\n",
    "[1] 9209445"
   ]
  },
  {
   "cell_type": "code",
   "execution_count": null,
   "id": "06b1c3b3",
   "metadata": {},
   "outputs": [],
   "source": [
    "print(\"Total accession in UniProtKB-Plants\")\n",
    "print(nrow(all_sp)+nrow(all_tr))"
   ]
  },
  {
   "cell_type": "code",
   "execution_count": null,
   "id": "b7d951d5",
   "metadata": {},
   "outputs": [],
   "source": [
    "[1] \"Total accession in UniProtKB-Plants\"\n",
    "[1] 19068217"
   ]
  },
  {
   "cell_type": "code",
   "execution_count": null,
   "id": "747de4eb",
   "metadata": {},
   "outputs": [],
   "source": [
    "print(\"Total accession in UniProtKB-Plants (%)\")\n",
    "print(((nrow(zen_sp)+nrow(zen_tr))/(nrow(all_sp)+nrow(all_tr)))*100)"
   ]
  },
  {
   "cell_type": "code",
   "execution_count": null,
   "id": "2bed27e5",
   "metadata": {},
   "outputs": [],
   "source": [
    "[1] \"Total accession in UniProtKB-Plants (%)\"\n",
    "[1] 48.29736"
   ]
  },
  {
   "cell_type": "code",
   "execution_count": null,
   "id": "3b50cf0f",
   "metadata": {},
   "outputs": [],
   "source": [
    "fwrite(compare, \"Zen_OrthoDB_vs_UniProt_OrthoDB_20240429.tsv\", row.names = FALSE, col.names = TRUE, sep = \"\\t\")"
   ]
  }
 ],
 "metadata": {
  "jupytext": {
   "cell_metadata_filter": "-all",
   "main_language": "R",
   "notebook_metadata_filter": "-all"
  },
  "language_info": {
   "name": "python"
  }
 },
 "nbformat": 4,
 "nbformat_minor": 5
}
